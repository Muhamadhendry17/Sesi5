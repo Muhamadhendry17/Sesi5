{
 "cells": [
  {
   "cell_type": "markdown",
   "id": "b797c11e",
   "metadata": {},
   "source": [
    "<h1>Input dan Output String<h1>\n",
    "<h3>1. Buatlah biodata sederhana dengan menggunakan input ().<h3>"
   ]
  },
  {
   "cell_type": "code",
   "execution_count": 3,
   "id": "c665e87d",
   "metadata": {
    "scrolled": true
   },
   "outputs": [
    {
     "name": "stdout",
     "output_type": "stream",
     "text": [
      "massukan nama anda: Muhamad Hendry Irawan Ramadhan\n",
      "massukan kelas anda: TI22H\n",
      "massukan jurusan anda: Teknik Informatika\n",
      "massukan nim anda: 20220040080\n",
      "Hai nama saya Muhamad Hendry Irawan Ramadhan saya dari TI22H nice to meet you\n"
     ]
    }
   ],
   "source": [
    "nama = input(\"massukan nama anda: \")\n",
    "kelas = input (\"massukan kelas anda: \")\n",
    "jurusan = input(\"massukan jurusan anda: \")\n",
    "nim = input(\"massukan nim anda: \")\n",
    "print(\"Hai nama saya {} saya dari {} nice to meet you\".format(nama, kelas , jurusan, nim))"
   ]
  },
  {
   "cell_type": "markdown",
   "id": "62871bbf",
   "metadata": {},
   "source": [
    "<h3>2. Jika terdapat kalimat UNIVERSITAS NUSA PUTRA SUKABUMI ,buatlah kode program untuk menampilkan output:\n",
    "     \n",
    "     a. putra nusa\n",
    "     b. NIVERSITAS NSA PTRA SKBMI\n",
    "     C. SUKABUMI PUTRA NUSA UNIVERSITAS\n",
    "     d. UNPS\n",
    "     e. TAS SAPU BUMI "
   ]
  },
  {
   "cell_type": "code",
   "execution_count": 3,
   "id": "2f20a8dc",
   "metadata": {},
   "outputs": [
    {
     "name": "stdout",
     "output_type": "stream",
     "text": [
      "putra nusa\n",
      "NIVERSITAS NSA PTRA SKABMI\n",
      "SUKABUMI PUTRA NUSA UNIVERSITAS\n",
      "UNPS\n",
      "TAS SAPU BUMI\n"
     ]
    }
   ],
   "source": [
    "kalimat = \"UNIVERSITAS NUSA PUTRA SUKABUMI\"\n",
    "\n",
    "a = kalimat[17:22].lower() + kalimat[11:16].lower()\n",
    "b = kalimat[1:12] + kalimat[1] + kalimat[14:17] + kalimat[17] + kalimat[19:23] + kalimat[10] + kalimat[25:28] + kalimat[29:31]\n",
    "c = kalimat[23:31] + kalimat[16:22] + kalimat[11:17] + kalimat[0:11]\n",
    "d = kalimat[0] + kalimat[1] + kalimat[17] + kalimat[23]\n",
    "e = kalimat[8:12] + kalimat[14:16] + kalimat[17:19] + kalimat[11] + kalimat[27:31]\n",
    "\n",
    "print(a)\n",
    "print(b) \n",
    "print(c)\n",
    "print(d)\n",
    "print(e)"
   ]
  }
 ],
 "metadata": {
  "kernelspec": {
   "display_name": "Python 3 (ipykernel)",
   "language": "python",
   "name": "python3"
  },
  "language_info": {
   "codemirror_mode": {
    "name": "ipython",
    "version": 3
   },
   "file_extension": ".py",
   "mimetype": "text/x-python",
   "name": "python",
   "nbconvert_exporter": "python",
   "pygments_lexer": "ipython3",
   "version": "3.9.12"
  }
 },
 "nbformat": 4,
 "nbformat_minor": 5
}
